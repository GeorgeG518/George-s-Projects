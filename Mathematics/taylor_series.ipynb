{
 "cells": [
  {
   "cell_type": "code",
   "execution_count": 11,
   "metadata": {},
   "outputs": [],
   "source": [
    "import numpy as np\n",
    "import  sympy as sym\n",
    "\n",
    "from sympy import Symbol, Eq, sin, cos # for trig\n",
    "from sympy.solvers import solve\n",
    "from matplotlib import pyplot as plt\n",
    "x = Symbol('x')"
   ]
  },
  {
   "cell_type": "code",
   "execution_count": 38,
   "metadata": {},
   "outputs": [
    {
     "name": "stdout",
     "output_type": "stream",
     "text": [
      "1/(1 - x) + (x + 1)/(1 - x)**2 + (x**2 + 1)/(1 - x)**3 + (x**3 + 1)/(1 - x)**4 + (x**4 + 1)/(1 - x)**5 + (x**5 + 1)/(1 - x)**6 + (x**6 + 1)/(1 - x)**7 + (x**7 + 1)/(1 - x)**8 + (x**8 + 1)/(1 - x)**9\n"
     ]
    }
   ],
   "source": [
    "\n",
    "def f(x):\n",
    "    return 1/(1-x)\n",
    "\n",
    "# TAYLOR SERIES\n",
    "# f(a)+ ( f'(a)/1! )(x-a) + (f''(a)/2!)(x-a)^2 + (f'''(a)/3!)(x-a)^3\n",
    "#\n",
    "# IN: a=point of taylorization\n",
    "# OUT: Returns taylor series function\n",
    "MAXTAYLOR=9\n",
    "eq = None\n",
    "def calcTaylor(a):\n",
    "    iteration = 0 \n",
    "    sum_series = 0\n",
    "    arrayofderivatives = MAXTAYLOR*[None]\n",
    "    while(iteration< MAXTAYLOR):\n",
    "        if(iteration == 0):\n",
    "            sum_series = f(x)\n",
    "            arrayofderivatives[iteration] = f(x)\n",
    "        else:\n",
    "            # TODO: Do some taylor series shenanigans\n",
    "            arrayofderivatives[iteration] = sym.diff(arrayofderivatives[iteration-1])\n",
    "\n",
    "            sum_series+=(arrayofderivatives[iteration]/factorial(iteration))*((x-a)**iteration)\n",
    "            pass\n",
    "        iteration+=1\n",
    "\n",
    "\n",
    "    return sum_series\n",
    "test = calcTaylor(0)\n",
    "print(test)"
   ]
  },
  {
   "cell_type": "code",
   "execution_count": 31,
   "metadata": {},
   "outputs": [],
   "source": [
    "# Given a \n",
    "def differentiate(func, point):\n",
    "    pass"
   ]
  },
  {
   "cell_type": "code",
   "execution_count": 3,
   "metadata": {},
   "outputs": [
    {
     "name": "stdout",
     "output_type": "stream",
     "text": [
      "362880\n"
     ]
    }
   ],
   "source": [
    "def factorial(iteration):\n",
    "    if(iteration==1 or iteration==0): return 1\n",
    "    else: return iteration*factorial(iteration-1)\n",
    "    \n",
    "test = factorial(9)\n",
    "print(test)"
   ]
  },
  {
   "cell_type": "code",
   "execution_count": null,
   "metadata": {},
   "outputs": [],
   "source": []
  }
 ],
 "metadata": {
  "kernelspec": {
   "display_name": "Python 3",
   "language": "python",
   "name": "python3"
  },
  "language_info": {
   "codemirror_mode": {
    "name": "ipython",
    "version": 3
   },
   "file_extension": ".py",
   "mimetype": "text/x-python",
   "name": "python",
   "nbconvert_exporter": "python",
   "pygments_lexer": "ipython3",
   "version": "3.8.3"
  }
 },
 "nbformat": 4,
 "nbformat_minor": 4
}
