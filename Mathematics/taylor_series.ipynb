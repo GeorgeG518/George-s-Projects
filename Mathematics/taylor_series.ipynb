{
 "cells": [
  {
   "cell_type": "code",
   "execution_count": 2,
   "metadata": {},
   "outputs": [],
   "source": [
    "import numpy as np\n",
    "import  sympy as sym\n",
    "\n",
    "from sympy import Symbol, sin, cos # for trig\n",
    "from sympy.solvers import solve\n",
    "\n",
    "from matplotlib import pyplot as plt\n",
    "x = Symbol('x')"
   ]
  },
  {
   "cell_type": "code",
   "execution_count": 13,
   "metadata": {},
   "outputs": [
    {
     "name": "stdout",
     "output_type": "stream",
     "text": [
      "x**3 + 3*x**2 + 6*x + 6\n",
      "x**3 + 3*x**2 + 6*x + 6\n"
     ]
    }
   ],
   "source": [
    "\n",
    "def f(x):\n",
    "    return x**3\n",
    "\n",
    "# TAYLOR SERIES\n",
    "# f(a)+ ( f'(a)/1! )(x-a) + (f''(a)/2!)(x-a)^2 + (f'''(a)/3!)(x-a)^3\n",
    "#\n",
    "# IN: a=point of taylorization\n",
    "# OUT: Returns taylor series function\n",
    "MAXTAYLOR=9\n",
    "def calcTaylor(a):\n",
    "    iteration = 0 \n",
    "    sum_series = 0\n",
    "    arrayofderivatives = MAXTAYLOR*[None]\n",
    "    while(iteration< MAXTAYLOR):\n",
    "        if(iteration == 0):\n",
    "            sum_series = f(x)\n",
    "            arrayofderivatives[iteration] = f(x)\n",
    "        else:\n",
    "            # TODO: Do some taylor series shenanigans\n",
    "            arrayofderivatives[iteration] = sym.diff(arrayofderivatives[iteration-1])\n",
    "            sum_series+=(arrayofderivatives[iteration])/1\n",
    "            pass\n",
    "        iteration+=1\n",
    "    print(sum_series)\n",
    "    \n",
    "    return sum_series\n",
    "test = calcTaylor(2)\n",
    "print(test)"
   ]
  },
  {
   "cell_type": "code",
   "execution_count": null,
   "metadata": {},
   "outputs": [],
   "source": []
  },
  {
   "cell_type": "code",
   "execution_count": null,
   "metadata": {},
   "outputs": [],
   "source": []
  }
 ],
 "metadata": {
  "kernelspec": {
   "display_name": "Python 3",
   "language": "python",
   "name": "python3"
  },
  "language_info": {
   "codemirror_mode": {
    "name": "ipython",
    "version": 3
   },
   "file_extension": ".py",
   "mimetype": "text/x-python",
   "name": "python",
   "nbconvert_exporter": "python",
   "pygments_lexer": "ipython3",
   "version": "3.8.3"
  }
 },
 "nbformat": 4,
 "nbformat_minor": 4
}
