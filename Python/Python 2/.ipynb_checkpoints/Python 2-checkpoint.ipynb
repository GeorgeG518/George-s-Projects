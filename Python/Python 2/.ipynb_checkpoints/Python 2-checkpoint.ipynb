{
 "cells": [
  {
   "cell_type": "markdown",
   "metadata": {},
   "source": [
    "<a id=\"99\"></a>\n",
    "# Python 2 Assignment\n",
    "### Purpose: To make better use of Python's Markdown syntax and visualize data\n",
    "<b>Program Sections</b>\n",
    "<ul>\n",
    "<li><a href = \"#0\">Import Python Packages</a></li>\n",
    "<li><a href = \"#1\">Set Display</a></li>\n",
    "<li><a href = \"#2\">Load the Data and Evaluate Fields</a></li>\n",
    "<li><a href = \"#3\">Describe the Data</a></li>\n",
    "<li><a href = \"#4\">Visualize the Data</a></li>\n",
    "<li><a href = \"#5\">Assignment Submission</a></li></ul>"
   ]
  },
  {
   "cell_type": "markdown",
   "metadata": {},
   "source": [
    "<a id=\"0\"></a>\n",
    "### Import Python Packages\n",
    "<a href = \"#99\">Top</a>"
   ]
  },
  {
   "cell_type": "code",
   "execution_count": 1,
   "metadata": {},
   "outputs": [],
   "source": [
    "import pandas as pd \n",
    "import seaborn as sns\n",
    "\n",
    "from matplotlib import pyplot as plt\n",
    "from matplotlib import style"
   ]
  },
  {
   "cell_type": "markdown",
   "metadata": {},
   "source": [
    "<a id=\"1\"></a>\n",
    "### Set Display\n",
    "<a href = \"#99\">Top</a>"
   ]
  },
  {
   "cell_type": "code",
   "execution_count": 2,
   "metadata": {},
   "outputs": [],
   "source": [
    "# Set display to show up to 100 columns in dataframe\n",
    "pd.set_option('display.max_columns',100) "
   ]
  },
  {
   "cell_type": "markdown",
   "metadata": {},
   "source": [
    "<a id=\"2\"></a>\n",
    "### Load the Data and Evaluate Fields\n",
    "<a href = \"#99\">Top</a>"
   ]
  },
  {
   "cell_type": "code",
   "execution_count": 3,
   "metadata": {},
   "outputs": [
    {
     "name": "stdout",
     "output_type": "stream",
     "text": [
      "['Sheet1', 'Data']\n"
     ]
    }
   ],
   "source": [
    "# Read Excel file into dataframe\n",
    "df_excel =  pd.ExcelFile('DataFinder Data Sample.xlsx') \n",
    "\n",
    "# Show worksheet names in dataframe from Excel file \n",
    "print(df_excel.sheet_names)"
   ]
  },
  {
   "cell_type": "code",
   "execution_count": 4,
   "metadata": {},
   "outputs": [],
   "source": [
    "# Load data from specific worksheet into dataframe\n",
    "df_datafinder = df_excel.parse('Data')"
   ]
  },
  {
   "cell_type": "code",
   "execution_count": 5,
   "metadata": {},
   "outputs": [
    {
     "data": {
      "text/plain": [
       "array(['City', 'County', 'State', 'Zip', 'Country', 'DOB', 'URLSource',\n",
       "       'AutoYear', 'Make', 'Model', 'AutoTrim', 'AutoVIN', 'Gender',\n",
       "       'Source', 'Last4SSN', 'Employer', 'Occupation', 'LoanAmount',\n",
       "       'LoanType', 'MonthlyIncome', 'EstimatedHouseholdIncome',\n",
       "       'NetWorth', 'NumberCreditLines', 'RangeOfNewCredit', 'Education',\n",
       "       'OccupationDetail', 'NumberOfChildren', 'PresenceOfChildren',\n",
       "       'MaritalStatusInHousehold', 'HomeOwnerRenter', 'LengthOfResidence',\n",
       "       'DwellingType', 'NumberOfAdults', 'HouseholdSize',\n",
       "       'GenerationsInHousehold', 'MailOrderBuyer', 'MailerOrderResponder',\n",
       "       'OnlinePurchasingIndicator', 'MembershipClubs',\n",
       "       'ValuePriceGeneralMerchandiseBuyer', 'ApparelWomens',\n",
       "       'ApparelWomensPetite', 'ApparelWomensPlusSize',\n",
       "       'ApparelWomensYoung', 'ApparelMens', 'ApparelMensBigAndTall',\n",
       "       'ApparelMensYoung', 'ApparelChildrens', 'HealthAndBeauty',\n",
       "       'BeautyCosmetics', 'Jewelry', 'Luggage',\n",
       "       'CardHolderAmericanExpressGoldPremium',\n",
       "       'CardHolderAmericanExpressRegular',\n",
       "       'CardHolderDiscoverGoldPremium', 'CardHolderDiscoverRegular',\n",
       "       'CardHolderGasolineRetailGoldPremium',\n",
       "       'CardHolderGasolineRetailRegular',\n",
       "       'CardHolderMastercardGoldPremium', 'CardHolderMastercardRegular',\n",
       "       'CardHolderVisaGoldPremium', 'CardHolderVisaRegular',\n",
       "       'CardHolderBank', 'CardHolderGasDeptRetail',\n",
       "       'CardHolderTravelEntertainment', 'CardHolderUnknownType',\n",
       "       'CardHolderPremium', 'CardHolderUpscale', 'CreditCardUser',\n",
       "       'CreditCardNewIssue', 'BankCardPresentInHousehold',\n",
       "       'InvestingActive', 'InvestingPersonal', 'InvestingRealEstate',\n",
       "       'InvestingStocksBonds', 'InvestingReadingNewsletterOrSubscriber',\n",
       "       'InvestingMoneySeeker', 'InvestingFinanceGroup',\n",
       "       'InvestingForeign', 'DonationContributor', 'MailOrderDonor',\n",
       "       'CharitableDonations', 'CharitableDonorAnimalWelfare',\n",
       "       'CharitableDonorArtsAndCulture', 'CharitableDonorChildren',\n",
       "       'CharitableDonorEnvironmentOrWildlife',\n",
       "       'CharitableDonorEnvironmentalIssues', 'CharitableDonorHealth',\n",
       "       'CharitableDonorInternationalAid', 'CharitableDonorPolitical',\n",
       "       'CharitableDonorConservativePolitics',\n",
       "       'CharitableDonorLiberalPolitics', 'CharitableDonorReligious',\n",
       "       'CharitableDonorVeterans', 'CharitableDonorUnspecified',\n",
       "       'CharitableDonorCommunity', 'VeteranInHousehold', 'Parenting',\n",
       "       'SingleParent', 'ApparelChildrenInfantsToddlers',\n",
       "       'ApparelChildrenLearningActivityToys', 'ApparelChildrenBabyCare',\n",
       "       'ApparelChildrenBackToSchool', 'ApparelChildrenGeneral',\n",
       "       'YoungAdultInHousehold', 'SeniorAdultInHousehold',\n",
       "       'ChildrenInterests', 'Grandchildren', 'ChristianFamilies', 'Pets',\n",
       "       'Equestrian', 'CatOwner', 'DogOwner', 'OtherPetOwner',\n",
       "       'CareerImprovement', 'WorkingWoman', 'AfricanAmericanProfessional',\n",
       "       'SOHOIndicator', 'Career', 'BooksMagazines', 'Books', 'AudioBooks',\n",
       "       'ReadingGeneral', 'ReadingScienceFiction', 'ReadingMagazines',\n",
       "       'ReadingAudioBooks', 'ReadingGrouping', 'MilitaryHistory',\n",
       "       'CurrentAffairsAndPolitics', 'ReligiousInspirational',\n",
       "       'ScienceAndSpace', 'Magazines', 'OnlineEducation', 'Gaming',\n",
       "       'HomeComputingOfficeGeneral', 'DVDsVideos', 'TVVideoMovieWatcher',\n",
       "       'HomeComputingOffice', 'HighEndAppliances',\n",
       "       'IntendToPurchaseHDTVSatDish', 'MusicHomeStereo', 'MusicPlayer',\n",
       "       'MusicCollector', 'MusicAvidListener', 'MovieCollector', 'TVCable',\n",
       "       'VideoGames', 'TVSatDish', 'Computers', 'ComputerGames',\n",
       "       'ConsumerElectronics', 'MusicGrouping',\n",
       "       'ElectronicsAndComputersGrouping', 'Telecommunications',\n",
       "       'Antiques', 'Art', 'TheaterPerformingArt', 'ArtsGeneral',\n",
       "       'MusicalInstruments', 'CollectiblesGeneral', 'CollectiblesStamps',\n",
       "       'CollectiblesCoins', 'CollectiblesArts', 'CollectiblesAntiques',\n",
       "       'CollectorAvid', 'CollectiblesAntiquesGrouping',\n",
       "       'CollectiblesSportsMemorabilia', 'CollectiblesMilitary',\n",
       "       'LifestyleInterestsCollectibles', 'DoItYourselferHomeImprovement',\n",
       "       'DoItYourselferAutoWork', 'DoItYourselferSewingKnitting',\n",
       "       'DoItYourselferWoodworking', 'DoItYourselferPhotography',\n",
       "       'DoItYourselferAviation', 'DoItYourselferHousePlants',\n",
       "       'DoItYourselferCrafts', 'DoItYourselferHomeAndGarden',\n",
       "       'DoItYourselferGardening', 'GeneralGardening',\n",
       "       'HomeImprovementGrouping', 'LifestylesCraftsHobbies',\n",
       "       'LifestylesPhotographyVideo', 'LifestylesSmoking',\n",
       "       'LifestylesDecoratingAndFurnishing', 'LifestylesHomeImprovement',\n",
       "       'LifestylesIntendToPurchaseHomeImprovement',\n",
       "       'LifestylesFoodAndWine', 'LifestylesCookingGeneral',\n",
       "       'LifestylesCookingGourmet', 'LifestylesNaturalFoods',\n",
       "       'LifestylesFoodGrouping', 'LifestylesBoardGamesAndPuzzles',\n",
       "       'LifestylesCasinoGaming', 'LifestylesSweepstakes',\n",
       "       'TravelGrouping', 'TravelGeneral', 'TravelDomestic',\n",
       "       'TravelInternational', 'TravelCruiseVacations', 'LivingHome',\n",
       "       'LivingDIY', 'LivingSporty', 'LivingUpscale',\n",
       "       'LivingCulturalArtistic', 'LivingHighbrow', 'LivingHighTech',\n",
       "       'LivingCommon', 'LivingProfessional', 'LivingBroader',\n",
       "       'ExerciseHealthGrouping', 'ExerciseRunningOrJogging',\n",
       "       'ExerciseWalking', 'ExerciseAerobic',\n",
       "       'SpectatorSportsAutoOrMotorcycleRacing', 'SpectatorSportsTVSports',\n",
       "       'SpectatorSportsFootball', 'SpectatorSportsBaseball',\n",
       "       'SpectatorSportsBasketball', 'SpectatorSportsHockey',\n",
       "       'SpectatorSportsSoccer', 'SportsTennis', 'SportsGolf',\n",
       "       'SportsSnowSkiing', 'SportsMotorcycling', 'SportsNascar',\n",
       "       'SportsBoatingSailing', 'SportsScubaDiving',\n",
       "       'SportsSportsAndLeisure', 'SportsHunting', 'SportsFishing',\n",
       "       'SportsCampingOrHiking', 'SportsShooting', 'SportsGrouping',\n",
       "       'SportsOutdoorsGrouping', 'HealthMedical', 'DietingWeightLoss',\n",
       "       'SelfImprovement', 'AutoPartsAndAccessories', 'HomeValue',\n",
       "       'HomePurchaseDate', 'HomePurchasePrice',\n",
       "       'MortgageMostRecentLenderName', 'HomeYearBuilt',\n",
       "       'HomeAirConditioning', 'HomePool', 'HomeFuel', 'HomeSewer',\n",
       "       'HomeWater', 'LoanToValue', 'EthnicCode', 'EthnicGroup',\n",
       "       'Language', 'Religion', 'CreditRating', 'Latitude', 'Longitude',\n",
       "       'ValueHunter', 'OpportunitySeekers', 'NewsAndFinancial',\n",
       "       'AutomotiveBuff', 'ComputerOwner', 'CookingEnthusiast',\n",
       "       'DoItYourselfer', 'ExerciseEnthusiast', 'OutdoorEnthusiast',\n",
       "       'OutdoorSportsLover', 'Photography', 'Traveler',\n",
       "       'ReligiousMagazines', 'MaleMerchandiseBuyer',\n",
       "       'FemaleMerchandiseBuyer', 'GardeningFarmingBuyer', 'BookBuyer',\n",
       "       'SpecialFoodsBuyer', 'HighTechLeader',\n",
       "       'DonatesToEnvironmentalCauses', 'DonatesByMail', 'IsCharitable',\n",
       "       'ChildrensProductsGeneral', 'ResidentialDeliveryIndicator',\n",
       "       'HomeRefinanceDate', 'RefinanceAmount', 'RefinanceLenderName',\n",
       "       'DomainRegistered', 'RegistrarName'], dtype=object)"
      ]
     },
     "execution_count": 5,
     "metadata": {},
     "output_type": "execute_result"
    }
   ],
   "source": [
    "# Provide a listing of the field names in the dataframe\n",
    "df_datafinder.columns.values"
   ]
  },
  {
   "cell_type": "code",
   "execution_count": 6,
   "metadata": {},
   "outputs": [
    {
     "data": {
      "text/plain": [
       "(3719, 286)"
      ]
     },
     "execution_count": 6,
     "metadata": {},
     "output_type": "execute_result"
    }
   ],
   "source": [
    "# Show the number of rows and columns in the dataframe\n",
    "df_datafinder.shape"
   ]
  },
  {
   "cell_type": "code",
   "execution_count": 7,
   "metadata": {},
   "outputs": [],
   "source": [
    "# Drop columns 33 through 286 from the dataframe\n",
    "df_datafinder.drop(df_datafinder.columns[32:285], axis=1, inplace=True)"
   ]
  },
  {
   "cell_type": "code",
   "execution_count": 8,
   "metadata": {},
   "outputs": [],
   "source": [
    "# Rename some fields\n",
    "df_datafinder = df_datafinder.rename(columns = {'DOB'       : 'Date of Birth',\n",
    "                                                'AutoYear'  : 'Auto Year',\n",
    "                                                'Make'      : 'Auto Make',\n",
    "                                                'Model'     : 'Auto Model',\n",
    "                                                'AutoTrim'  : 'Auto Trim',\n",
    "                                                'LoanAmount': 'Mortgage Amount'})"
   ]
  },
  {
   "cell_type": "code",
   "execution_count": 9,
   "metadata": {},
   "outputs": [
    {
     "name": "stdout",
     "output_type": "stream",
     "text": [
      "<class 'pandas.core.frame.DataFrame'>\n",
      "RangeIndex: 3719 entries, 0 to 3718\n",
      "Data columns (total 33 columns):\n",
      " #   Column                    Non-Null Count  Dtype  \n",
      "---  ------                    --------------  -----  \n",
      " 0   City                      3719 non-null   object \n",
      " 1   County                    3719 non-null   object \n",
      " 2   State                     3719 non-null   object \n",
      " 3   Zip                       3719 non-null   object \n",
      " 4   Country                   1909 non-null   object \n",
      " 5   Date of Birth             3719 non-null   object \n",
      " 6   URLSource                 2426 non-null   object \n",
      " 7   Auto Year                 1898 non-null   float64\n",
      " 8   Auto Make                 1891 non-null   object \n",
      " 9   Auto Model                1889 non-null   object \n",
      " 10  Auto Trim                 1290 non-null   object \n",
      " 11  AutoVIN                   1900 non-null   object \n",
      " 12  Gender                    3700 non-null   object \n",
      " 13  Source                    2372 non-null   object \n",
      " 14  Last4SSN                  2055 non-null   float64\n",
      " 15  Employer                  157 non-null    object \n",
      " 16  Occupation                3710 non-null   object \n",
      " 17  Mortgage Amount           263 non-null    float64\n",
      " 18  LoanType                  108 non-null    object \n",
      " 19  MonthlyIncome             263 non-null    float64\n",
      " 20  EstimatedHouseholdIncome  3612 non-null   object \n",
      " 21  NetWorth                  3557 non-null   object \n",
      " 22  NumberCreditLines         2767 non-null   float64\n",
      " 23  RangeOfNewCredit          1841 non-null   object \n",
      " 24  Education                 3456 non-null   object \n",
      " 25  OccupationDetail          1331 non-null   object \n",
      " 26  NumberOfChildren          2652 non-null   float64\n",
      " 27  PresenceOfChildren        2681 non-null   object \n",
      " 28  MaritalStatusInHousehold  3442 non-null   object \n",
      " 29  HomeOwnerRenter           3719 non-null   object \n",
      " 30  LengthOfResidence         3719 non-null   int64  \n",
      " 31  DwellingType              3717 non-null   object \n",
      " 32  RegistrarName             92 non-null     object \n",
      "dtypes: float64(6), int64(1), object(26)\n",
      "memory usage: 958.9+ KB\n"
     ]
    }
   ],
   "source": [
    "# Shows the data type and number of non-null values in the fields\n",
    "# There are a lot of fields with missing values\n",
    "df_datafinder.info()"
   ]
  },
  {
   "cell_type": "markdown",
   "metadata": {},
   "source": [
    "<a id=\"3\"></a>\n",
    "### Describe the Data\n",
    "<a href = \"#99\">Top</a>"
   ]
  },
  {
   "cell_type": "code",
   "execution_count": 10,
   "metadata": {},
   "outputs": [
    {
     "data": {
      "text/html": [
       "<div>\n",
       "<style scoped>\n",
       "    .dataframe tbody tr th:only-of-type {\n",
       "        vertical-align: middle;\n",
       "    }\n",
       "\n",
       "    .dataframe tbody tr th {\n",
       "        vertical-align: top;\n",
       "    }\n",
       "\n",
       "    .dataframe thead th {\n",
       "        text-align: right;\n",
       "    }\n",
       "</style>\n",
       "<table border=\"1\" class=\"dataframe\">\n",
       "  <thead>\n",
       "    <tr style=\"text-align: right;\">\n",
       "      <th></th>\n",
       "      <th>Auto Year</th>\n",
       "      <th>Last4SSN</th>\n",
       "      <th>Mortgage Amount</th>\n",
       "      <th>MonthlyIncome</th>\n",
       "      <th>NumberCreditLines</th>\n",
       "      <th>NumberOfChildren</th>\n",
       "      <th>LengthOfResidence</th>\n",
       "    </tr>\n",
       "  </thead>\n",
       "  <tbody>\n",
       "    <tr>\n",
       "      <th>count</th>\n",
       "      <td>1898.000000</td>\n",
       "      <td>2055.000000</td>\n",
       "      <td>263.000000</td>\n",
       "      <td>263.000000</td>\n",
       "      <td>2767.000000</td>\n",
       "      <td>2652.00000</td>\n",
       "      <td>3719.000000</td>\n",
       "    </tr>\n",
       "    <tr>\n",
       "      <th>mean</th>\n",
       "      <td>2005.160695</td>\n",
       "      <td>4978.249148</td>\n",
       "      <td>85702.003802</td>\n",
       "      <td>16041.311787</td>\n",
       "      <td>2.437658</td>\n",
       "      <td>1.48190</td>\n",
       "      <td>11.553912</td>\n",
       "    </tr>\n",
       "    <tr>\n",
       "      <th>std</th>\n",
       "      <td>6.617336</td>\n",
       "      <td>2913.098377</td>\n",
       "      <td>129155.824687</td>\n",
       "      <td>27782.129422</td>\n",
       "      <td>1.812924</td>\n",
       "      <td>1.23908</td>\n",
       "      <td>4.585596</td>\n",
       "    </tr>\n",
       "    <tr>\n",
       "      <th>min</th>\n",
       "      <td>1981.000000</td>\n",
       "      <td>10.000000</td>\n",
       "      <td>0.000000</td>\n",
       "      <td>0.000000</td>\n",
       "      <td>1.000000</td>\n",
       "      <td>0.00000</td>\n",
       "      <td>0.000000</td>\n",
       "    </tr>\n",
       "    <tr>\n",
       "      <th>25%</th>\n",
       "      <td>2002.000000</td>\n",
       "      <td>2444.000000</td>\n",
       "      <td>0.000000</td>\n",
       "      <td>0.000000</td>\n",
       "      <td>1.000000</td>\n",
       "      <td>1.00000</td>\n",
       "      <td>9.000000</td>\n",
       "    </tr>\n",
       "    <tr>\n",
       "      <th>50%</th>\n",
       "      <td>2007.000000</td>\n",
       "      <td>5015.000000</td>\n",
       "      <td>100.000000</td>\n",
       "      <td>0.000000</td>\n",
       "      <td>2.000000</td>\n",
       "      <td>1.00000</td>\n",
       "      <td>15.000000</td>\n",
       "    </tr>\n",
       "    <tr>\n",
       "      <th>75%</th>\n",
       "      <td>2010.000000</td>\n",
       "      <td>7567.500000</td>\n",
       "      <td>170000.000000</td>\n",
       "      <td>30000.000000</td>\n",
       "      <td>3.000000</td>\n",
       "      <td>2.00000</td>\n",
       "      <td>15.000000</td>\n",
       "    </tr>\n",
       "    <tr>\n",
       "      <th>max</th>\n",
       "      <td>2014.000000</td>\n",
       "      <td>9993.000000</td>\n",
       "      <td>825000.000000</td>\n",
       "      <td>130000.000000</td>\n",
       "      <td>9.000000</td>\n",
       "      <td>5.00000</td>\n",
       "      <td>15.000000</td>\n",
       "    </tr>\n",
       "  </tbody>\n",
       "</table>\n",
       "</div>"
      ],
      "text/plain": [
       "         Auto Year     Last4SSN  Mortgage Amount  MonthlyIncome  \\\n",
       "count  1898.000000  2055.000000       263.000000     263.000000   \n",
       "mean   2005.160695  4978.249148     85702.003802   16041.311787   \n",
       "std       6.617336  2913.098377    129155.824687   27782.129422   \n",
       "min    1981.000000    10.000000         0.000000       0.000000   \n",
       "25%    2002.000000  2444.000000         0.000000       0.000000   \n",
       "50%    2007.000000  5015.000000       100.000000       0.000000   \n",
       "75%    2010.000000  7567.500000    170000.000000   30000.000000   \n",
       "max    2014.000000  9993.000000    825000.000000  130000.000000   \n",
       "\n",
       "       NumberCreditLines  NumberOfChildren  LengthOfResidence  \n",
       "count        2767.000000        2652.00000        3719.000000  \n",
       "mean            2.437658           1.48190          11.553912  \n",
       "std             1.812924           1.23908           4.585596  \n",
       "min             1.000000           0.00000           0.000000  \n",
       "25%             1.000000           1.00000           9.000000  \n",
       "50%             2.000000           1.00000          15.000000  \n",
       "75%             3.000000           2.00000          15.000000  \n",
       "max             9.000000           5.00000          15.000000  "
      ]
     },
     "execution_count": 10,
     "metadata": {},
     "output_type": "execute_result"
    }
   ],
   "source": [
    "# Provide quick descriptive statistics on numeric fields\n",
    "# Note that some fields should not be described this way ... like \"Auto Year\" and \"Last4SSN\"\n",
    "df_datafinder.describe()"
   ]
  },
  {
   "cell_type": "code",
   "execution_count": 11,
   "metadata": {},
   "outputs": [
    {
     "data": {
      "text/plain": [
       "Female    1559\n",
       "Male      1444\n",
       "F          387\n",
       "M          310\n",
       "Name: Gender, dtype: int64"
      ]
     },
     "execution_count": 11,
     "metadata": {},
     "output_type": "execute_result"
    }
   ],
   "source": [
    "# Calculate the number of observations at each gender\n",
    "# Note that the entries are inconsistent and will need cleaning ... an upcoming topic \n",
    "df_datafinder['Gender'].value_counts()"
   ]
  },
  {
   "cell_type": "code",
   "execution_count": 12,
   "metadata": {},
   "outputs": [
    {
     "data": {
      "text/plain": [
       "Completed High School           31.6%\n",
       "Completed College               25.7%\n",
       "Some College                    23.3%\n",
       "Completed Grad School           13.5%\n",
       "Did Not Complete High School     5.8%\n",
       "Tech/Vocational Training         0.0%\n",
       "Name: Education, dtype: object"
      ]
     },
     "execution_count": 12,
     "metadata": {},
     "output_type": "execute_result"
    }
   ],
   "source": [
    "# Calculate percentages that fall in each category and format the results\n",
    "df_datafinder['Education'].value_counts(normalize=True).mul(100).round(1).astype(str) + '%'"
   ]
  },
  {
   "cell_type": "markdown",
   "metadata": {},
   "source": [
    "<a id=\"4\"></a>\n",
    "### Visualize the Data\n",
    "<a href = \"#99\">Top</a>"
   ]
  },
  {
   "cell_type": "code",
   "execution_count": 13,
   "metadata": {},
   "outputs": [
    {
     "data": {
      "image/png": "[encoded data removed]",
      "text/plain": [
       "<Figure size 432x288 with 1 Axes>"
      ]
     },
     "metadata": {
      "needs_background": "light"
     },
     "output_type": "display_data"
    }
   ],
   "source": [
    "# Create a simple boxplot of a numerical field\n",
    "sns.boxplot(y = \"NumberOfChildren\",  data = df_datafinder)\n",
    "\n",
    "# Show the results; you can take this out but the results are cleaner this way\n",
    "plt.show()"
   ]
  },
  {
   "cell_type": "code",
   "execution_count": 14,
   "metadata": {},
   "outputs": [
    {
     "data": {
      "image/png": "[encoded data removed]",
      "text/plain": [
       "<Figure size 432x288 with 1 Axes>"
      ]
     },
     "metadata": {
      "needs_background": "light"
     },
     "output_type": "display_data"
    }
   ],
   "source": [
    "# Creating a column chart of the count of the records\n",
    "sns.countplot(x = \"NumberOfChildren\",  data = df_datafinder, color = \"royalblue\")\n",
    "# You can see color chocies at https://python-graph-gallery.com/100-calling-a-color-with-seaborn/\n",
    "\n",
    "# Create a label for the x axis\n",
    "plt.xlabel('Number of Children', fontweight='bold', fontsize='14', horizontalalignment='center')\n",
    "\n",
    "# Create a label for the y axis in the chart\n",
    "plt.ylabel('Count', fontweight='bold', fontsize='14', horizontalalignment='center')\n",
    "\n",
    "plt.show()"
   ]
  },
  {
   "cell_type": "code",
   "execution_count": 16,
   "metadata": {},
   "outputs": [
    {
     "data": {
      "image/png": "[encoded data removed]",
      "text/plain": [
       "<Figure size 216x432 with 1 Axes>"
      ]
     },
     "metadata": {
      "needs_background": "light"
     },
     "output_type": "display_data"
    }
   ],
   "source": [
    "# Set the size of the visualization\n",
    "plt.figure(figsize=(3,6))\n",
    "\n",
    "# Set the actual visualization\n",
    "sns.boxplot(y = \"NumberCreditLines\",  data = df_datafinder)\n",
    "\n",
    "# Create a title for the overall plot\n",
    "plt.suptitle('Credit Lines per Individual', fontweight='bold', \n",
    "          fontsize='18', horizontalalignment='center', y=0.96)\n",
    "\n",
    "# Create a label for the y-axis in the plot\n",
    "plt.ylabel('Number of Credit Lines', fontweight='bold', \n",
    "           fontsize='14', horizontalalignment='center')\n",
    "\n",
    "plt.show()"
   ]
  },
  {
   "cell_type": "code",
   "execution_count": 17,
   "metadata": {},
   "outputs": [
    {
     "data": {
      "image/png": "[encoded data removed]",
      "text/plain": [
       "<Figure size 216x432 with 1 Axes>"
      ]
     },
     "metadata": {
      "needs_background": "light"
     },
     "output_type": "display_data"
    }
   ],
   "source": [
    "# Put only non-missing data into a list\n",
    "autoYear = df_datafinder[\"Auto Year\"].dropna()\n",
    "\n",
    "plt.figure(figsize=(3,6))\n",
    "\n",
    "# Set chart to a histogram\n",
    "chart = sns.distplot(autoYear, kde=False, color = \"navy\");\n",
    "\n",
    "plt.suptitle('Histogram of Manufacture Year of Primary Vehicle', fontweight='bold', \n",
    "          fontsize='18', horizontalalignment='center', y=.96)\n",
    "\n",
    "plt.xlabel('Manufacture Year of Primary Vehicle', fontweight='bold', \n",
    "           fontsize='14', horizontalalignment='center')\n",
    "\n",
    "plt.ylabel('Count', fontweight='bold', \n",
    "           fontsize='14', horizontalalignment='center')\n",
    "\n",
    "plt.show()"
   ]
  },
  {
   "cell_type": "code",
   "execution_count": 19,
   "metadata": {},
   "outputs": [
    {
     "name": "stdout",
     "output_type": "stream",
     "text": [
      "['$25,000-49,999' '$50,000-99,999' '$250,000-499,999' '$10,000-24,999'\n",
      " '$100,000-249,999' nan '> $499,999' '$1-4,999' '< $1' '$5,000-9,999']\n"
     ]
    }
   ],
   "source": [
    "# Find all values in a categorical field\n",
    "print(df_datafinder['NetWorth'].unique())"
   ]
  },
  {
   "cell_type": "code",
   "execution_count": 20,
   "metadata": {},
   "outputs": [
    {
     "data": {
      "image/png": "[encoded data removed]",
      "text/plain": [
       "<Figure size 1152x432 with 1 Axes>"
      ]
     },
     "metadata": {},
     "output_type": "display_data"
    }
   ],
   "source": [
    "# Creating a professional-looking chart\n",
    "\n",
    "# Set the order of the categories to be visualized\n",
    "cols = ['< $1', '$1-4,999', '$5,000-9,999', '$10,000-24,999', '$25,000-49,999',\n",
    "        '$100,000-249,999', '$250,000-499,999', '$50,000-99,999', '> $499,999']\n",
    "\n",
    "# Set style and size of plot\n",
    "sns.set(style='whitegrid')\n",
    "plt.figure(figsize=(16,6))\n",
    "\n",
    "# Define the chart as a count of number of observations, with pre-determined order\n",
    "chart = sns.countplot(x = \"NetWorth\",\n",
    "                      data = df_datafinder, \n",
    "                      order = cols, \n",
    "                      color= \"navy\")\n",
    "\n",
    "# Set the size and alignment of the x axis labels and rotate them\n",
    "chart.set_xticklabels(chart.get_xticklabels(), \n",
    "                      fontsize='12', rotation=45, \n",
    "                      horizontalalignment='right')\n",
    "\n",
    "plt.suptitle('    Distribution of Net Worth in Data', fontweight='bold', \n",
    "          fontsize='20', horizontalalignment='center', y=.98)\n",
    "\n",
    "# Create a secondary title with a different size and placement\n",
    "plt.title('Count of Individuals by Net Worth Category', fontweight='bold', \n",
    "          fontsize='14', horizontalalignment='center', y=1.01)\n",
    "\n",
    "# Create labels for the x and y axes\n",
    "plt.xlabel('Net Worth Category', fontweight='bold', \n",
    "           fontsize='14', horizontalalignment='center')\n",
    "\n",
    "plt.ylabel('Count', fontweight='bold', \n",
    "           fontsize='14', horizontalalignment='center')\n",
    "\n",
    "plt.show()"
   ]
  },
  {
   "cell_type": "markdown",
   "metadata": {},
   "source": [
    "<a id=\"5\"></a>\n",
    "### Assignment Submission\n",
    "<a href = \"#99\">Top</a>"
   ]
  },
  {
   "cell_type": "markdown",
   "metadata": {},
   "source": [
    "## Python Assignment 2\n",
    "### Name: George Gannon"
   ]
  },
  {
   "cell_type": "code",
   "execution_count": 21,
   "metadata": {},
   "outputs": [
    {
     "data": {
      "text/plain": [
       "count    3719.000000\n",
       "mean       11.553912\n",
       "std         4.585596\n",
       "min         0.000000\n",
       "25%         9.000000\n",
       "50%        15.000000\n",
       "75%        15.000000\n",
       "max        15.000000\n",
       "Name: LengthOfResidence, dtype: float64"
      ]
     },
     "execution_count": 21,
     "metadata": {},
     "output_type": "execute_result"
    }
   ],
   "source": [
    "df_datafinder['LengthOfResidence'].describe()"
   ]
  },
  {
   "cell_type": "code",
   "execution_count": 22,
   "metadata": {},
   "outputs": [
    {
     "data": {
      "image/png": "[encoded data removed]",
      "text/plain": [
       "<Figure size 720x72 with 1 Axes>"
      ]
     },
     "metadata": {},
     "output_type": "display_data"
    }
   ],
   "source": [
    "plt.figure(figsize=(10,1))\n",
    "sns.boxplot(x = \"NumberOfChildren\", data = df_datafinder)\n",
    "plt.suptitle('Boxplot of Children in Family', fontweight='bold', \n",
    "          fontsize='14', horizontalalignment='center', y = 1.12)\n",
    "plt.xlabel('Number of Children in Family', fontweight='bold', \n",
    "           fontsize='10', horizontalalignment='center'); plt.show()"
   ]
  },
  {
   "cell_type": "code",
   "execution_count": 23,
   "metadata": {},
   "outputs": [
    {
     "name": "stdout",
     "output_type": "stream",
     "text": [
      "2020-09-06T11:19:03.160113\n",
      "Your Computer Name is: DESKTOP-0VRDGNF\n",
      "Your Computer IP Address is: 192.168.1.139\n"
     ]
    }
   ],
   "source": [
    "import datetime, socket\n",
    "print(datetime.datetime.now().isoformat())\n",
    "print(\"Your Computer Name is: \" + socket.gethostname())\n",
    "print(\"Your Computer IP Address is: \" + socket.gethostbyname(socket.gethostname()))"
   ]
  },
  {
   "cell_type": "code",
   "execution_count": null,
   "metadata": {},
   "outputs": [],
   "source": []
  }
 ],
 "metadata": {
  "kernelspec": {
   "display_name": "Python 3",
   "language": "python",
   "name": "python3"
  },
  "language_info": {
   "codemirror_mode": {
    "name": "ipython",
    "version": 3
   },
   "file_extension": ".py",
   "mimetype": "text/x-python",
   "name": "python",
   "nbconvert_exporter": "python",
   "pygments_lexer": "ipython3",
   "version": "3.8.3"
  }
 },
 "nbformat": 4,
 "nbformat_minor": 4
}
