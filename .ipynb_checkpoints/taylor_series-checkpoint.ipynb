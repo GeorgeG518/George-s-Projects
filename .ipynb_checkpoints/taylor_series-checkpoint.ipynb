{
 "cells": [
  {
   "cell_type": "code",
   "execution_count": 8,
   "metadata": {},
   "outputs": [],
   "source": [
    "import numpy as np\n",
    "import  sympy as sym\n",
    "\n",
    "from sympy import Symbol, sin, cos # for trig\n",
    "from sympy.solvers import solve\n",
    "\n",
    "from matplotlib import pyplot as plt\n",
    "x = Symbol('x')"
   ]
  },
  {
   "cell_type": "code",
   "execution_count": 9,
   "metadata": {},
   "outputs": [
    {
     "name": "stdout",
     "output_type": "stream",
     "text": [
      "x\n"
     ]
    }
   ],
   "source": [
    "\n",
    "def f(x):\n",
    "    return x\n",
    "\n",
    "# TAYLOR SERIES\n",
    "# f(a)+ ( f'(a)/1! )(x-a) + (f''(a)/2!)(x-a)^2 + (f'''(a)/3!)(x-a)^3\n",
    "#\n",
    "# IN: a=point of taylorization\n",
    "# OUT: Returns taylor series function\n",
    "MAXTAYLOR=9\n",
    "def calcTaylor(a):\n",
    "    iteration = 0 \n",
    "    sum_series = 0\n",
    "    while(iteration< MAXTAYLOR):\n",
    "        if(iteration == 0):\n",
    "            sum_series = f(x)\n",
    "        else:\n",
    "            pass\n",
    "        iteration+=1\n",
    "    \n",
    "    \n",
    "    return sum_series\n",
    "test = calcTaylor(2)\n",
    "print(test)"
   ]
  },
  {
   "cell_type": "code",
   "execution_count": 5,
   "metadata": {},
   "outputs": [
    {
     "ename": "NameError",
     "evalue": "name 'calctaylor' is not defined",
     "output_type": "error",
     "traceback": [
      "\u001b[1;31m---------------------------------------------------------------------------\u001b[0m",
      "\u001b[1;31mNameError\u001b[0m                                 Traceback (most recent call last)",
      "\u001b[1;32m<ipython-input-5-e4ff2213db33>\u001b[0m in \u001b[0;36m<module>\u001b[1;34m\u001b[0m\n\u001b[1;32m----> 1\u001b[1;33m \u001b[0mtest\u001b[0m \u001b[1;33m=\u001b[0m \u001b[0mcalctaylor\u001b[0m\u001b[1;33m(\u001b[0m\u001b[1;36m2\u001b[0m\u001b[1;33m)\u001b[0m\u001b[1;33m\u001b[0m\u001b[1;33m\u001b[0m\u001b[0m\n\u001b[0m\u001b[0;32m      2\u001b[0m \u001b[0mprint\u001b[0m\u001b[1;33m(\u001b[0m\u001b[0mtest\u001b[0m\u001b[1;33m)\u001b[0m\u001b[1;33m\u001b[0m\u001b[1;33m\u001b[0m\u001b[0m\n",
      "\u001b[1;31mNameError\u001b[0m: name 'calctaylor' is not defined"
     ]
    }
   ],
   "source": []
  },
  {
   "cell_type": "code",
   "execution_count": null,
   "metadata": {},
   "outputs": [],
   "source": []
  }
 ],
 "metadata": {
  "kernelspec": {
   "display_name": "Python 3",
   "language": "python",
   "name": "python3"
  },
  "language_info": {
   "codemirror_mode": {
    "name": "ipython",
    "version": 3
   },
   "file_extension": ".py",
   "mimetype": "text/x-python",
   "name": "python",
   "nbconvert_exporter": "python",
   "pygments_lexer": "ipython3",
   "version": "3.8.3"
  }
 },
 "nbformat": 4,
 "nbformat_minor": 4
}
