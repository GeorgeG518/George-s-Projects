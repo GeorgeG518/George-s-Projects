{
 "cells": [
  {
   "cell_type": "code",
   "execution_count": 41,
   "metadata": {},
   "outputs": [],
   "source": [
    "# may need to run a conda install or pip install because I will be using some ~odd~ libraries\n",
    "import pyoeis, os, matplotlib\n",
    "from midiutil import MIDIFile\n",
    "\n",
    "import numpy as np\n",
    "from matplotlib import pyplot as plt\n",
    "import random as rd\n",
    "REPO_LOCATION = os.getcwd()\n",
    "#GLOBAL CONSTANTS\n",
    "MAX_SEQS = 10\n",
    "\n",
    "# initial setup stuff\n",
    "oeisClient = pyoeis.OEISClient() # creates OEIS api object\n",
    "if(\"out\" not in os.listdir()): # this checks to see if the out directory is created\n",
    "    os.mkdir(\"out\") # if it's not, we make it so that way we have somewhere to place all of our output files\n",
    "                    # and not clog our directory"
   ]
  },
  {
   "cell_type": "markdown",
   "metadata": {},
   "source": [
    "## OEIS API Documentation:\n",
    "https://pyoeis.readthedocs.io/en/latest/api.html\n",
    "\n",
    "## Attributes:\n",
    "    |id  The sequence’s unique ID in the OEIS, as a string. Begins ‘A’.|\n",
    "    |alt_ids   Other IDs, as a list of strings beginning ‘M’ and ‘N’ which the sequence carried in the “The Encyclopedia of| |Integer Sequences”, 1995 or the “Handbook of Integer Sequences”, 1973, respectively.|\n",
    "    |unsigned_list\tA list of terms in the sequence without any minus signs.|\n",
    "    |signed_list\tA list of terms in the sequence including any minus signs.|\n",
    "    |name\tThe name of the sequence, as a string.\n",
    "    |references\tA list of references to the sequence.\n",
    "    |links\tA list of links about the sequence.\n",
    "    |formulae\tFormulae for generating the sequence, as a list of strings.\n",
    "    |cross_references\tCross-references to the sequence from elsewhere in the OEIS, as a list of strings.\n",
    "    |author\tThe author of the sequence entry, as a string.\n",
    "    |offset\tThe subscript of the first term and the position of the first term whose modulus exceeds 1, as a tuple of two numbers.\n",
    "    |errors\tErrors in the sequence entry, as a list of strings.\n",
    "    |examples\tExamples to illustrate the sequence, as a list of strings.\n",
    "    |maple\tMaple code to generate the sequence, as a string.\n",
    "    |mathematica\tMathematica code to generate the sequence, as a string.\n",
    "    |other_programs\tCode to generate the sequence in other programs/languages, as a list of strings.\n",
    "    |keywords\tThe sequence’s keywords, as a list of strings.\n",
    "    |comments\tComments on the sequence entry, as a list of strings."
   ]
  },
  {
   "cell_type": "markdown",
   "metadata": {},
   "source": [
    "# Verify the pyoeis API is working as intended\n",
    "# If you see a big block of stuff, you are good to go!"
   ]
  },
  {
   "cell_type": "code",
   "execution_count": 18,
   "metadata": {},
   "outputs": [
    {
     "data": {
      "text/plain": [
       "{'id': 'A000040',\n",
       " 'alt_ids': ['M0652', 'N0241'],\n",
       " 'unsigned_list': [2,\n",
       "  3,\n",
       "  5,\n",
       "  7,\n",
       "  11,\n",
       "  13,\n",
       "  17,\n",
       "  19,\n",
       "  23,\n",
       "  29,\n",
       "  31,\n",
       "  37,\n",
       "  41,\n",
       "  43,\n",
       "  47,\n",
       "  53,\n",
       "  59,\n",
       "  61,\n",
       "  67,\n",
       "  71,\n",
       "  73,\n",
       "  79,\n",
       "  83,\n",
       "  89,\n",
       "  97,\n",
       "  101,\n",
       "  103,\n",
       "  107,\n",
       "  109,\n",
       "  113,\n",
       "  127,\n",
       "  131,\n",
       "  137,\n",
       "  139,\n",
       "  149,\n",
       "  151,\n",
       "  157,\n",
       "  163,\n",
       "  167,\n",
       "  173,\n",
       "  179,\n",
       "  181,\n",
       "  191,\n",
       "  193,\n",
       "  197,\n",
       "  199,\n",
       "  211,\n",
       "  223,\n",
       "  227,\n",
       "  229,\n",
       "  233,\n",
       "  239,\n",
       "  241,\n",
       "  251,\n",
       "  257,\n",
       "  263,\n",
       "  269,\n",
       "  271],\n",
       " 'signed_list': [],\n",
       " 'name': 'The prime numbers',\n",
       " 'raw_formula': '',\n",
       " 'references': ['M. Aigner and G. M. Ziegler, Proofs from The Book, Springer-Verlag, Berlin, 2nd. ed., 2001; see p. 3.',\n",
       "  'T. M. Apostol, Introduction to Analytic Number Theory, Springer-Verlag, 1976, page 2.',\n",
       "  'E. Bach and Jeffrey Shallit, Algorithmic Number Theory, I, Chaps. 8, 9.',\n",
       "  'D. M. Bressoud, Factorization and Primality Testing, Springer-Verlag NY 1989.',\n",
       "  'M. Cipolla, \"La determinazione asintotica dell\\'n-mo numero primo.\", Rend. d. R. Acc. di sc. fis. e mat. di Napoli, s. 3, VIII (1902), pp. 132-166.',\n",
       "  'R. Crandall and C. Pomerance, Prime Numbers: A Computational Perspective, Springer, NY, 2001; see p. 1.',\n",
       "  'Martin Davis, \"Algorithms, Equations, and Logic\", pp. 4-15 of S. Barry Cooper and Andrew Hodges, Eds., \"The Once and Future Turing: Computing the World\", Cambridge 2016.',\n",
       "  'J.-P. Delahaye, Merveilleux nombres premiers, Pour la Science-Belin Paris, 2000.',\n",
       "  'J.-P. Delahaye, Savoir si un nombre est premier: facile, Pour La Science, 303(1) 2003, pp. 98-102.',\n",
       "  'Diaconis, Persi, The distribution of leading digits and uniform distribution mod 1, Ann. Probability, 5, 1977, 72--81,',\n",
       "  'M. Dietzfelbinger, Primality Testing in Polynomial Time, Springer NY 2004.',\n",
       "  'M. du Sautoy, The Music of the Primes, Fourth Estate / HarperCollins, 2003; see p. 5.',\n",
       "  'J. Elie, \"L\\'algorithme AKS\", in \\'Quadrature\\', No. 60, pp. 22-32, 2006 EDP-sciences, Les Ulis (France);',\n",
       "  'W. & F. Ellison, Prime Numbers, Hermann Paris 1985',\n",
       "  'T. Estermann, Introduction to Modern Prime Number Theory, Camb. Univ. Press, 1969.',\n",
       "  'J. M. Gandhi, Formulae for the nth prime. Proc. Washington State Univ. Conf. on Number Theory, 96-106. Wash. St. Univ., Pullman, Wash., 1971.',\n",
       "  'G. H. Hardy and E. M. Wright, An Introduction to the Theory of Numbers. 3rd ed., Oxford Univ. Press, 1954, p. 2.',\n",
       "  'Peter Hilton and Jean Pedersen, A Mathematical Tapestry: Demonstrating the Beautiful Unity of Mathematics, Cambridge University Press, 2010, pp. (260-264).',\n",
       "  'H. D. Huskey, Derrick Henry Lehmer [1905-1991]. IEEE Ann. Hist. Comput. 17 (1995), no. 2, 64-68. Math. Rev. 96b:01035, cf. http://www.ams.org/mathscinet-getitem?mr=1336709',\n",
       "  'M. N. Huxley, The Distribution of Prime Numbers, Oxford Univ. Press, 1972.',\n",
       "  'D. S. Jandu, Prime Numbers And Factorization, Infinite Bandwidth Publishing, N. Hollywood CA 2007.',\n",
       "  'E. Landau, Handbuch der Lehre von der Verteilung der Primzahlen, Chelsea, NY, 1974.',\n",
       "  'D. H. Lehmer, The sieve problem for all-purpose computers. Math. Tables and Other Aids to Computation, Math. Tables and Other Aids to Computation, 7, (1953). 6-14. Math. Rev. 14:691e',\n",
       "  'D. N. Lehmer, \"List of Prime Numbers from 1 to 10,006,721\", Carnegie Institute, Washington, D.C. 1909.',\n",
       "  'W. J. LeVeque, Topics in Number Theory. Addison-Wesley, Reading, MA, 2 vols., 1956, Vol. 1, Chap. 6.',\n",
       "  'H. Lifchitz, Table des nombres premiers de 0 à 20 millions (Tomes I & II), Albert Blanchard, Paris 1971.',\n",
       "  'R. F. Lukes, C. D. Patterson and H. C. Williams, Numerical sieving devices: their history and some applications. Nieuw Arch. Wisk. (4) 13 (1995), no. 1, 113-139. Math. Rev. 96m:11082, cf http://www.ams.org/mathscinet-getitem?mr=96m:11082',\n",
       "  'P. Ribenboim, The New Book of Prime Number Records, Springer-Verlag NY 1995.',\n",
       "  'P. Ribenboim, The Little Book of Bigger Primes, Springer-Verlag NY 2004.',\n",
       "  'H. Riesel, Prime Numbers and Computer Methods for Factorization, Birkhäuser Boston, Cambridge MA 1994.',\n",
       "  'B. Rittaud, \"31415879. Ce nombre est-il premier?\" [\\'Is this number prime?\\'], La Recherche, Vol. 361, pp. 70-73, Feb 15 2003, Paris.',\n",
       "  'D. Shanks, Solved and Unsolved Problems in Number Theory, 2nd. ed., Chelsea, 1978, Chap. 1.',\n",
       "  'N. J. A. Sloane, A Handbook of Integer Sequences, Academic Press, 1973 (includes this sequence).',\n",
       "  'N. J. A. Sloane and Simon Plouffe, The Encyclopedia of Integer Sequences, Academic Press, 1995 (includes this sequence).',\n",
       "  'D. Wells, Prime Numbers: The Most Mysterious Figures In Math, J. Wiley NY 2005.',\n",
       "  'H. C. Williams and Jeffrey Shallit, Factoring integers before computers. Mathematics of Computation 1943-1993: a half-century of computational mathematics (Vancouver, BC, 1993), 481-531, Proc. Sympos. Appl. Math., 48, AMS, Providence, RI, 1994. Math. Rev. 95m:11143'],\n",
       " 'links': [],\n",
       " 'formulae': ['The prime number theorem is the statement that a(n) ~ n * log n as n -> infinity (Hardy and Wright, page 10).',\n",
       "  'For n >= 2, n*(log n + log log n - 3/2) < a(n); for n >= 20, a(n) < n*(log n + log log n - 1/2). [Rosser and Schoenfeld]',\n",
       "  'For all n, a(n) > n log n. [Rosser]',\n",
       "  'n log(n) + n (log log n - 1) < a(n) < n log n + n log log n for n >= 6. [Dusart, quoted in the Wikipedia article]',\n",
       "  'a(n) = n log n + n log log n + (n/log n)*(log log n - log n - 2) + O( n (log log n)^2/ (log n)^2). [Cipolla, see also Cesàro or the \"Prime number theorem\" Wikipedia article for more terms in the expansion]',\n",
       "  'a(n) = 2 + Sum_{k = 2..floor(2n*log(n)+2)} (1-floor(pi(k)/n)), for n > 1, where the formula for pi(k) is given in A000720 (Ruiz and Sondow 2002). - _Jonathan Sondow_, Mar 06 2004',\n",
       "  'I conjecture that Sum_{i>=1} (1/(prime(i)*log(prime(i)))) = Pi/2 = 1.570796327...; Sum_{i=1..100000} (1/(prime(i)*log(prime(i)))) = 1.565585514... It converges very slowly. - _Miklos Kristof_, Feb 12 2007',\n",
       "  'The last conjecture has been discussed by the math.research newsgroup recently. The sum, which is greater than Pi/2, is shown in sequence A137245. - _T. D. Noe_, Jan 13 2009',\n",
       "  'A000005(a(n)) = 2; A002033(a(n+1)) = 1. - _Juri-Stepan Gerasimov_, Oct 17 2009',\n",
       "  'A001222(a(n)) = 1. - _Juri-Stepan Gerasimov_, Nov 10 2009',\n",
       "  'From _Gary Detlefs_, Sep 10 2010: (Start)',\n",
       "  'Conjecture:',\n",
       "  'a(n) = {n| n! mod n^2 = n(n-1)}, n <> 4.',\n",
       "  'a(n) = {n| n!*h(n) mod n = n-1}, n <> 4, where h(n) = Sum_{k=1..n} 1/k. (End)',\n",
       "  'For n = 1..15, a(n) = p + abs(p-3/2) + 1/2, where p = m + int((m-3)/2), and m = n + int((n-2)/8) + int((n-4)/8). - _Timothy Hopper_, Oct 23 2010',\n",
       "  'a(2n) <= A104272(n) - 2 for n > 1, and a(2n) ~ A104272(n) as n -> infinity. - _Jonathan Sondow_, Dec 16 2013',\n",
       "  'Conjecture: Sequence = {5 and n <> 5| ( Fibonacci(n) mod n = 1 or Fibonacci(n) mod n = n - 1) and 2^(n-1) mod n = 1}. - _Gary Detlefs_, May 25 2014',\n",
       "  'Conjecture: Sequence = {5 and n <> 5| ( Fibonacci(n) mod n = 1 or Fibonacci(n) mod n = n - 1) and 2^(3*n) mod 3*n = 8}. - _Gary Detlefs_, May 28 2014',\n",
       "  'a(n) = 1 + Sum_{m=1..L(n)} (abs(n-Pi(m))-abs(n-Pi(m)-1/2)+1/2), where Pi(m) = A000720(m) and L(n) >= a(n)-1. L(n) can be any function of n which satisfies the inequality. For instance, L(n) can be ceiling((n+1)*log((n+1)*log(n+1))) since it satisfies this inequality. - _Timothy Hopper_, May 30 2015, Jun 16 2015',\n",
       "  'Sum_{n>=1} 1/a(n)^s = P(s), where P(s) is the prime zeta function. - _Eric W. Weisstein_, Nov 08 2016',\n",
       "  'a(n) = floor(1 - log(-1/2 + Sum_{ d | A002110(n-1) } mu(d)/(2^d-1))/log(2)) where mu(d) = A008683(d). Golomb gave a proof in 1974: Give each positive integer a probability of W(n) = 1/2^n, then the probability M(d) of the integer multiple of number d equals 1/(2^d-1). Suppose Q = a(1)*a(2)*...*a(n-1) = A002110(n-1), then the probability of random integers that are mutually prime with Q is Sum_{ d | Q } mu(d)*M(d) = Sum_{ d | Q } mu(d)/(2^d-1) = Sum_{ gcd(m, Q) = 1 } W(m) = 1/2 + 1/2^a(n) + 1/2^a(n+1) + 1/2^a(n+2) + ... So ((Sum_{ d | Q } mu(d)/(2^d-1)) - 1/2)*2^a(n) = 1 + x(n), which means that a(n) is the only integer so that 1 < ((Sum_{ d | Q } mu(d)/(2^d-1)) - 1/2)*2^a(n) < 2. - _Jinyuan Wang_, Apr 08 2019'],\n",
       " 'cross_references': ['For is_prime and next_prime, see A010051 and A151800.',\n",
       "  'Cf. A000720 (\"pi\"), A001223 (differences between primes), A002476, A002808, A003627, A006879, A006880, A008578, A233588.',\n",
       "  'Cf. primes in lexicographic order: A210757, A210758, A210759, A210760, A210761.',\n",
       "  'Cf. A003558, A179480 (relating to the Quasi-order theorem of Hilton and Pedersen).',\n",
       "  'Boustrophedon transforms: A000747, A000732, A230953.',\n",
       "  'a(2n) = A104272(n) - A233739(n).'],\n",
       " 'author': '_N. J. A. Sloane_',\n",
       " 'offset': (1, 1),\n",
       " 'errors': [],\n",
       " 'examples': [],\n",
       " 'maple': 'A000040 := n->ithprime(n); [ seq(ithprime(i),i=1..100) ];',\n",
       " 'mathematica': 'Prime[Range[60]]',\n",
       " 'other_programs': ['(MAGMA) [n : n in [2..500] | IsPrime(n)];',\n",
       "  '(MAGMA) a := func< n | NthPrime(n) >;',\n",
       "  '(PARI) {a(n) = if( n<1, 0, prime(n))};',\n",
       "  '(PARI) /* The following functions provide asymptotic approximations, one based on the asymptotic formula cited above (slight overestimate for n > 10^8), the other one based on pi(x) ~ li(x) = Ei(log(x)) (slight underestimate): */',\n",
       "  'prime1(n)=n*(log(n)+log(log(n))-1+(log(log(n))-2)/log(n)-((log(log(n))-6)*log(log(n))+11)/log(n)^2/2)',\n",
       "  'prime2(n)=solve(X=n*log(n)/2,2*n*log(n),real(eint1(-log(X)))+n)',\n",
       "  '\\\\\\\\ _M. F. Hasler_, Oct 21 2013',\n",
       "  '(PARI) forprime(p=2, 10^3, print1(p, \", \")) \\\\\\\\ _Felix Fröhlich_, Jun 30 2014',\n",
       "  '(PARI) primes(10^5) \\\\\\\\ _Altug Alkan_, Mar 26 2018',\n",
       "  '(Sage) a = sloane.A000040',\n",
       "  'a.list(58)  # _Jaap Spies_, 2007',\n",
       "  '(Sage) prime_range(1, 300)  # _Zerinvary Lajos_, May 27 2009',\n",
       "  '(Maxima) A000040(n) := block(',\n",
       "  'if n = 1 then return(2),',\n",
       "  'return( next_prime(A000040(n-1)))',\n",
       "  ')$ /* recursive, to be replaced if possible - _R. J. Mathar_, Feb 27 2012 */',\n",
       "  '(Haskell) See also Haskell Wiki Link',\n",
       "  'import Data.List (genericIndex)',\n",
       "  'a000040 n = genericIndex a000040_list (n - 1)',\n",
       "  'a000040_list = base ++ larger where',\n",
       "  'base = [2,3,5,7,11,13,17]',\n",
       "  'larger = p : filter prime more',\n",
       "  'prime n = all ((> 0) . mod n) $ takeWhile (\\\\x -> x*x <= n) larger',\n",
       "  '_ : p : more = roll $ makeWheels base',\n",
       "  'roll (Wheel n rs) = [n * k + r | k <- [0..], r <- rs]',\n",
       "  'makeWheels = foldl nextSize (Wheel 1 [1])',\n",
       "  'nextSize (Wheel size bs) p = Wheel (size * p)',\n",
       "  '[r | k <- [0..p-1], b <- bs, let r = size*k+b, mod r p > 0]',\n",
       "  'data Wheel = Wheel Integer [Integer]',\n",
       "  '-- _Reinhard Zumkeller_, Apr 07 2014',\n",
       "  '(GAP)',\n",
       "  'A000040:=Filtered([1..10^5],IsPrime); # _Muniru A Asiru_, Sep 04 2017'],\n",
       " 'keywords': ['%K A000040 core'],\n",
       " 'comments': ['See A065091 for comments, formulas etc. concerning only odd primes. For all information concerning prime powers, see A000961. For contributions concerning \"almost primes\" see A002808.',\n",
       "  'A number p is prime if (and only if) it is greater than 1 and has no positive divisors except 1 and p.',\n",
       "  'A natural number is prime if and only if it has exactly two (positive) divisors.',\n",
       "  'A prime has exactly one proper positive divisor, 1.',\n",
       "  'The paper by Kaoru Motose starts as follows: \"Let q be a prime divisor of a Mersenne number 2^p-1 where p is prime. Then p is the order of 2 (mod q). Thus p is a divisor of q - 1 and q > p. This shows that there exist infinitely many prime numbers.\" - Pieter Moree, Oct 14 2004',\n",
       "  '1 is not a prime, for if the primes included 1, then the factorization of a natural number n into a product of primes would not be unique, since n = n*1.',\n",
       "  'Prime(n) and pi(n) are inverse functions: A000720(a(n)) = n and a(n) is the least number m such that a(A000720(m)) = a(n). a(A000720(n)) = n if (and only if) n is prime.',\n",
       "  'Second sequence ever computed by electronic computer, on EDSAC, May 09 1949 (see Renwick link). - _Russ Cox_, Apr 20 2006',\n",
       "  'Every prime p > 3 is a linear combination of previous primes prime(n) with nonzero coefficients c(n) and |c(n)| < prime(n). - _Amarnath Murthy_, _Franklin T. Adams-Watters_ and _Joshua Zucker_, May 17 2006; clarified by _Chayim Lowen_, Jul 17 2015',\n",
       "  \"The Greek transliteration of 'Prime Number' is 'Protos Arithmos'. - _Daniel Forgues_, May 08 2009 [Edited by _Petros Hadjicostas_, Nov 18 2019]\",\n",
       "  'A number n is prime if and only if it is different from zero and different from a unit and each multiple of n decomposes into factors such that n divides at least one of the factors. This applies equally to the integers (where a prime has exactly four divisors (the definition of divisors is relaxed such that they can be negative)) and the positive integers (where a prime has exactly two distinct divisors). - _Peter Luschny_, Oct 09 2012',\n",
       "  'Motivated by his conjecture on representations of integers by alternating sums of consecutive primes, for any positive integer n, Zhi-Wei Sun conjectured that the polynomial P_n(x) = Sum_{k=0..n} a(k+1)*x^k is irreducible over the field of rational numbers with the Galois group S_n, and moreover P_n(x) is irreducible mod a(m) for some m <= n(n+1)/2. It seems that no known criterion on irreduciblity of polynomials implies this conjecture. - _Zhi-Wei Sun_, Mar 23 2013',\n",
       "  'Questions on a(2n) and Ramanujan primes are in A233739. - _Jonathan Sondow_, Dec 16 2013',\n",
       "  'From _Hieronymus Fischer_, Apr 02 2014: (Start)',\n",
       "  'Natural numbers such that there is exactly one base b such that the base-b alternate digital sum is 0 (see A239707).',\n",
       "  'Equivalently: Numbers p > 1 such that b = p-1 is the only base >= 1 for which the base-b alternate digital sum is 0.',\n",
       "  'Equivalently: Numbers p > 1 such that the base-b alternate digital sum is <> 0 for all bases 1 <= b < p-1. (End)',\n",
       "  'An integer n > 1 is a prime if and only if it is not the sum of positive integers in arithmetic progression with common difference 2. - _Jean-Christophe Hervé_, Jun 01 2014',\n",
       "  'Conjecture: Numbers having prime factors <= p(n+1) are {k|k^f(n) mod primorial(n)=1}, where f(n) = lcm(p(i)-1, i=1..n) = A058254(n) and primorial(n) = A002110(n). For example, numbers with no prime divisor <= p(7) = 17 are {k|k^60 mod 30030=1}. - _Gary Detlefs_, Jun 07 2014',\n",
       "  'Cramer conjecture prime(n+1) - prime(n) < C log^2 prime(n) is equivalent to the inequality (log prime(n+1)/log prime(n))^n < e^C, as n tend to infinity, where C is an absolute constant. - _Thomas Ordowski_, Oct 06 2014',\n",
       "  'I conjecture that for any positive rational number r there are finitely many primes q_1,...,q_k such that r = Sum_{j=1..k} 1/(q_j-1). For example, 2 = 1/(2-1)+1/(3-1)+1/(5-1)+1/(7-1)+1/(13-1) with 2, 3, 5, 7 and 13 all prime, 1/7 = 1/(13-1)+1/(29-1)+1/(43-1) with 13, 29 and 43 all prime, and 5/7 = 1/(3-1)+1/(7-1)+1/(31-1)+1/(71-1) with 3, 7, 31 and 71 all prime. - _Zhi-Wei Sun_, Sep 09 2015',\n",
       "  'I also conjecture that for any positive rational number r there are finitely many primes p_1,...,p_k such that r = sum_{j=1..k} 1/(p_j+1).  For example, 1 = 1/(2+1)+1/(3+1)+1/(5+1)+1/(7+1)+1/(11+1)+1/(23+1) with 2, 3, 5, 7, 11 and 23 all prime, and 10/11 = 1/(2+1)+1/(3+1)+1/(5+1)+1/(7+1)+1/(43+1)+1/(131+1)+1/(263+1) with 2, 3, 5, 7, 43, 131 and 263 all prime. - _Zhi-Wei Sun_, Sep 13 2015',\n",
       "  'Satisfies a(n) = 2*n + Sum_{k=1..(a(n)-1)} cot(k*Pi/a(n))*sin(2*k*n^a(n)*Pi/a(n)). - _Ilya Gutkovskiy_, Jun 29 2016',\n",
       "  'Numbers n such that ((n-2)!!)^2 == +-1 (mod n). - _Thomas Ordowski_, Aug 27 2016',\n",
       "  \"Does not satisfy Benford's law [Diaconis, 1977; Cohen-Katz, 1984; Berger-Hill, 2017]. - _N. J. A. Sloane_, Feb 07 2017\",\n",
       "  'Prime numbers are the integer roots of 1 - sin(Pi*Gamma(s)/s)/sin(Pi/s). - _Peter Luschny_, Feb 23 2018'],\n",
       " 'generate': <function pyoeis.sequence.Sequence._make_generate.<locals>.generate(n)>}"
      ]
     },
     "execution_count": 18,
     "metadata": {},
     "output_type": "execute_result"
    }
   ],
   "source": [
    "primes = oeisClient.get_by_id('a40')\n",
    "primes.__dict__\n"
   ]
  },
  {
   "cell_type": "markdown",
   "metadata": {},
   "source": [
    "# For all of your get sequence needs\n",
    "# Only used when you KNOW the sequence number"
   ]
  },
  {
   "cell_type": "code",
   "execution_count": 19,
   "metadata": {},
   "outputs": [],
   "source": [
    "def getSequence(id):\n",
    "    if('a' not in str(id)):\n",
    "        id = 'a'+str(id)\n",
    "    return oeisClient.get_by_id(id)"
   ]
  },
  {
   "cell_type": "code",
   "execution_count": 20,
   "metadata": {},
   "outputs": [],
   "source": [
    "def findSequence(keywords):\n",
    "    try:\n",
    "        return oeisClient.lookup_by_name(keywords,MAX_SEQS )\n",
    "    except:\n",
    "        return \"Make search more narrow\"\n",
    "    "
   ]
  },
  {
   "cell_type": "code",
   "execution_count": 36,
   "metadata": {},
   "outputs": [],
   "source": [
    "def feelingLucky():\n",
    "    return 'a'+str(rd.randint(0,16437)) # why? because oren said so"
   ]
  },
  {
   "cell_type": "code",
   "execution_count": 21,
   "metadata": {},
   "outputs": [
    {
     "name": "stdout",
     "output_type": "stream",
     "text": [
      "Enter the keywords: num\n"
     ]
    }
   ],
   "source": [
    "sequenceInQuestion = findSequence(str(input('Enter the keywords: ')))\n",
    "# sequenceInQuestion is now filled with a list of sequence objects\n"
   ]
  },
  {
   "cell_type": "code",
   "execution_count": 30,
   "metadata": {},
   "outputs": [],
   "source": [
    "sequenceInQuestion = getSequence('a40')"
   ]
  },
  {
   "cell_type": "code",
   "execution_count": null,
   "metadata": {},
   "outputs": [],
   "source": []
  },
  {
   "cell_type": "markdown",
   "metadata": {},
   "source": [
    "# Functional Stuff\n"
   ]
  },
  {
   "cell_type": "code",
   "execution_count": 35,
   "metadata": {},
   "outputs": [
    {
     "data": {
      "image/png": "[encoded data removed]",
      "text/plain": [
       "<Figure size 432x288 with 1 Axes>"
      ]
     },
     "metadata": {
      "needs_background": "light"
     },
     "output_type": "display_data"
    }
   ],
   "source": [
    "# will plot your sequence. Can tinker with parameters to get interesting \n",
    "# results\n",
    "def plot(sequence):\n",
    "    xm = np.arange(0,len(sequence.unsigned_list),1)\n",
    "    ym = sequence.unsigned_list\n",
    "    plt.subplot(1,1,1)\n",
    "    plt.plot(xm,ym,'b')\n",
    "    plt.show()\n",
    "plot(sequenceInQuestion)"
   ]
  },
  {
   "cell_type": "code",
   "execution_count": 66,
   "metadata": {},
   "outputs": [],
   "source": [
    "def generateMusicSequence(sequence,tempoBPM):\n",
    "    degrees =[60,62,64,65,67,69,71,72] # Correlates to CDEFGABC, TODO: add key parameter\n",
    "    track = 0\n",
    "    channel = 0\n",
    "    time = 0\n",
    "    duration = 1\n",
    "    tempo = tempoBPM\n",
    "    volume = 100\n",
    "    path = os.getcwd()+\"\\\\out\"\n",
    "    \n",
    "    try:\n",
    "        os.chdir(path)\n",
    "    except FileNotFoundError: # Probably crashed, so we're gonna fix that\n",
    "        os.chdir(\"..\")\n",
    "    # do stuff\n",
    "    notes = []\n",
    "    for i in sequence.unsigned_list:\n",
    "        notes.append(i%8)\n",
    "    MyMIDI = MIDIFile(1)\n",
    "    MyMIDI.addTempo(track,time,tempo)\n",
    "    for i,note in enumerate(notes):\n",
    "        MyMIDI.addNote(track, channel, degrees[note] ,time+i,duration,volume)\n",
    "    filestr = sequence.id+\".mid\"\n",
    "    with open(filestr,\"wb\") as output_file:\n",
    "        MyMIDI.writeFile(output_file)\n",
    "        \n",
    "    # stop doing stuff\n",
    "    os.chdir(\"..\")\n",
    "generateMusicSequence(sequenceInQuestion,120)"
   ]
  },
  {
   "cell_type": "code",
   "execution_count": 61,
   "metadata": {},
   "outputs": [],
   "source": []
  },
  {
   "cell_type": "code",
   "execution_count": null,
   "metadata": {},
   "outputs": [],
   "source": []
  }
 ],
 "metadata": {
  "kernelspec": {
   "display_name": "Python 3",
   "language": "python",
   "name": "python3"
  },
  "language_info": {
   "codemirror_mode": {
    "name": "ipython",
    "version": 3
   },
   "file_extension": ".py",
   "mimetype": "text/x-python",
   "name": "python",
   "nbconvert_exporter": "python",
   "pygments_lexer": "ipython3",
   "version": "3.8.3"
  }
 },
 "nbformat": 4,
 "nbformat_minor": 4
}
