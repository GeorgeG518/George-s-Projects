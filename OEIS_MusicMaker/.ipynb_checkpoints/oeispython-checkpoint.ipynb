{
 "cells": [
  {
   "cell_type": "code",
   "execution_count": 50,
   "metadata": {},
   "outputs": [],
   "source": [
    "# may need to run a conda install or pip install because I will be using some ~odd~ libraries\n",
    "import pyoeis, os\n",
    "REPO_LOCATION = os.getcwd()\n",
    "#GLOBAL CONSTANTS\n",
    "MAX_SEQS = 10\n",
    "\n",
    "# initial setup stuff\n",
    "oeisClient = pyoeis.OEISClient() # creates OEIS api object\n",
    "if(\"out\" not in os.listdir()): # this checks to see if the out directory is created\n",
    "    os.mkdir(\"out\") # if it's not, we make it so that way we have somewhere to place all of our output files\n",
    "                    # and not clog our directory"
   ]
  },
  {
   "cell_type": "markdown",
   "metadata": {},
   "source": [
    "# OEIS API Documentation:\n",
    "https://pyoeis.readthedocs.io/en/latest/api.html\n",
    "\n",
    "# Attributes:\n",
    "|id\tThe sequence’s unique ID in the OEIS, as a string. Begins ‘A’.|\n",
    "|alt_ids\tOther IDs, as a list of strings beginning ‘M’ and ‘N’ which the sequence carried in the “The Encyclopedia of| |Integer Sequences”, 1995 or the “Handbook of Integer Sequences”, 1973, respectively.|\n",
    "|unsigned_list\tA list of terms in the sequence without any minus signs.|\n",
    "|signed_list\tA list of terms in the sequence including any minus signs.|\n",
    "|name\tThe name of the sequence, as a string.\n",
    "|references\tA list of references to the sequence.\n",
    "|links\tA list of links about the sequence.\n",
    "|formulae\tFormulae for generating the sequence, as a list of strings.\n",
    "|cross_references\tCross-references to the sequence from elsewhere in the OEIS, as a list of strings.\n",
    "|author\tThe author of the sequence entry, as a string.\n",
    "|offset\tThe subscript of the first term and the position of the first term whose modulus exceeds 1, as a tuple of two numbers.\n",
    "|errors\tErrors in the sequence entry, as a list of strings.\n",
    "|examples\tExamples to illustrate the sequence, as a list of strings.\n",
    "|maple\tMaple code to generate the sequence, as a string.\n",
    "|mathematica\tMathematica code to generate the sequence, as a string.\n",
    "|other_programs\tCode to generate the sequence in other programs/languages, as a list of strings.\n",
    "|keywords\tThe sequence’s keywords, as a list of strings.\n",
    "|comments\tComments on the sequence entry, as a list of strings."
   ]
  },
  {
   "cell_type": "code",
   "execution_count": null,
   "metadata": {},
   "outputs": [],
   "source": [
    "# Verify the pyoeis API is working as intended\n",
    "# !!! If you see a big block of stuff, you are good to go!\n",
    "primes = oeisClient.get_by_id('a40')\n",
    "primes.__dict__\n",
    "\n"
   ]
  },
  {
   "cell_type": "code",
   "execution_count": 22,
   "metadata": {},
   "outputs": [],
   "source": [
    "# For all of your get sequence needs\n",
    "# Only used when you KNOW the sequence number\n",
    "def getSequence(id):\n",
    "    if('a' not in str(id)):\n",
    "        id = 'a'+str(id)\n",
    "    return oeisClient.get_by_id(id)"
   ]
  },
  {
   "cell_type": "code",
   "execution_count": 37,
   "metadata": {},
   "outputs": [],
   "source": [
    "def findSequence(keywords):\n",
    "    try:\n",
    "        return oeisClient.lookup_by_name(keywords,MAX_SEQS )\n",
    "    except:\n",
    "        return \"Make search more narrow\"\n",
    "    "
   ]
  },
  {
   "cell_type": "code",
   "execution_count": 41,
   "metadata": {},
   "outputs": [
    {
     "name": "stdout",
     "output_type": "stream",
     "text": [
      "Enter the keywords: \tNumbers with an even number of prime divisors (counted with multiplicity); numbers k such that the Liouville function lambda(k)\n"
     ]
    }
   ],
   "source": [
    "sequenceInQuestion = findSequence(str(input('Enter the keywords: ')))\n",
    "# a is now filled\n"
   ]
  },
  {
   "cell_type": "code",
   "execution_count": 42,
   "metadata": {},
   "outputs": [
    {
     "name": "stdout",
     "output_type": "stream",
     "text": [
      "[<pyoeis.sequence.Sequence object at 0x000001F492112400>]\n"
     ]
    }
   ],
   "source": []
  },
  {
   "cell_type": "code",
   "execution_count": null,
   "metadata": {},
   "outputs": [],
   "source": []
  }
 ],
 "metadata": {
  "kernelspec": {
   "display_name": "Python 3",
   "language": "python",
   "name": "python3"
  },
  "language_info": {
   "codemirror_mode": {
    "name": "ipython",
    "version": 3
   },
   "file_extension": ".py",
   "mimetype": "text/x-python",
   "name": "python",
   "nbconvert_exporter": "python",
   "pygments_lexer": "ipython3",
   "version": "3.8.3"
  }
 },
 "nbformat": 4,
 "nbformat_minor": 4
}
